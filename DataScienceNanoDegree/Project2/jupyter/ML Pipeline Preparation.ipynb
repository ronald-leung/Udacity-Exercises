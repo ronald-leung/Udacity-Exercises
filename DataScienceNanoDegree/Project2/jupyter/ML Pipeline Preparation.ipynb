{
 "cells": [
  {
   "cell_type": "markdown",
   "metadata": {},
   "source": [
    "# ML Pipeline Preparation\n",
    "\n",
    "This Jupyter notebook continues from the ETL Pipeline preparation notebook. We will apply __step 4 and 5__ of the CRISP-DM method:\n",
    "1. Business Understanding\n",
    "1. Data Understanding\n",
    "1. Data Preparation\n",
    "1. __Modeling__\n",
    "1. __Evaluation__\n",
    "1. Deployment\n",
    "\n",
    "The instructions below to is used to help you create your ML pipeline, and once tested we migrate them into a Python script.\n",
    "\n",
    "\n",
    "### 1. Import libraries and load data from database.\n",
    "- Import Python libraries\n",
    "- Load dataset from database with [`read_sql_table`](https://pandas.pydata.org/pandas-docs/stable/generated/pandas.read_sql_table.html)\n",
    "- Define feature and target variables X and Y"
   ]
  },
  {
   "cell_type": "code",
   "execution_count": 1,
   "metadata": {},
   "outputs": [],
   "source": [
    "# import libraries\n",
    "import pandas as pd\n",
    "import numpy as np\n",
    "from sqlalchemy import create_engine"
   ]
  },
  {
   "cell_type": "code",
   "execution_count": 2,
   "metadata": {},
   "outputs": [],
   "source": [
    "# load data from database\n",
    "engine = create_engine('sqlite:///../data/DisasterResponse.db')\n",
    "df = pd.read_sql_table(\"DisasterData\", con=engine)"
   ]
  },
  {
   "cell_type": "code",
   "execution_count": 3,
   "metadata": {},
   "outputs": [
    {
     "data": {
      "text/plain": [
       "(26180, 40)"
      ]
     },
     "execution_count": 3,
     "metadata": {},
     "output_type": "execute_result"
    }
   ],
   "source": [
    "#Do some basic sanity check to ensure data is clean.\n",
    "df.shape"
   ]
  },
  {
   "cell_type": "code",
   "execution_count": 4,
   "metadata": {},
   "outputs": [
    {
     "data": {
      "text/plain": [
       "1    19876\n",
       "0     6116\n",
       "2      188\n",
       "Name: related, dtype: int64"
      ]
     },
     "execution_count": 4,
     "metadata": {},
     "output_type": "execute_result"
    }
   ],
   "source": [
    "df.related.value_counts()"
   ]
  },
  {
   "cell_type": "code",
   "execution_count": 5,
   "metadata": {},
   "outputs": [
    {
     "data": {
      "text/html": [
       "<div>\n",
       "<style scoped>\n",
       "    .dataframe tbody tr th:only-of-type {\n",
       "        vertical-align: middle;\n",
       "    }\n",
       "\n",
       "    .dataframe tbody tr th {\n",
       "        vertical-align: top;\n",
       "    }\n",
       "\n",
       "    .dataframe thead th {\n",
       "        text-align: right;\n",
       "    }\n",
       "</style>\n",
       "<table border=\"1\" class=\"dataframe\">\n",
       "  <thead>\n",
       "    <tr style=\"text-align: right;\">\n",
       "      <th></th>\n",
       "      <th>id</th>\n",
       "      <th>message</th>\n",
       "      <th>original</th>\n",
       "      <th>genre</th>\n",
       "      <th>related</th>\n",
       "      <th>request</th>\n",
       "      <th>offer</th>\n",
       "      <th>aid_related</th>\n",
       "      <th>medical_help</th>\n",
       "      <th>medical_products</th>\n",
       "      <th>...</th>\n",
       "      <th>aid_centers</th>\n",
       "      <th>other_infrastructure</th>\n",
       "      <th>weather_related</th>\n",
       "      <th>floods</th>\n",
       "      <th>storm</th>\n",
       "      <th>fire</th>\n",
       "      <th>earthquake</th>\n",
       "      <th>cold</th>\n",
       "      <th>other_weather</th>\n",
       "      <th>direct_report</th>\n",
       "    </tr>\n",
       "  </thead>\n",
       "  <tbody>\n",
       "    <tr>\n",
       "      <th>0</th>\n",
       "      <td>2</td>\n",
       "      <td>Weather update - a cold front from Cuba that c...</td>\n",
       "      <td>Un front froid se retrouve sur Cuba ce matin. ...</td>\n",
       "      <td>direct</td>\n",
       "      <td>1</td>\n",
       "      <td>0</td>\n",
       "      <td>0</td>\n",
       "      <td>0</td>\n",
       "      <td>0</td>\n",
       "      <td>0</td>\n",
       "      <td>...</td>\n",
       "      <td>0</td>\n",
       "      <td>0</td>\n",
       "      <td>0</td>\n",
       "      <td>0</td>\n",
       "      <td>0</td>\n",
       "      <td>0</td>\n",
       "      <td>0</td>\n",
       "      <td>0</td>\n",
       "      <td>0</td>\n",
       "      <td>0</td>\n",
       "    </tr>\n",
       "    <tr>\n",
       "      <th>1</th>\n",
       "      <td>7</td>\n",
       "      <td>Is the Hurricane over or is it not over</td>\n",
       "      <td>Cyclone nan fini osinon li pa fini</td>\n",
       "      <td>direct</td>\n",
       "      <td>1</td>\n",
       "      <td>0</td>\n",
       "      <td>0</td>\n",
       "      <td>1</td>\n",
       "      <td>0</td>\n",
       "      <td>0</td>\n",
       "      <td>...</td>\n",
       "      <td>0</td>\n",
       "      <td>0</td>\n",
       "      <td>1</td>\n",
       "      <td>0</td>\n",
       "      <td>1</td>\n",
       "      <td>0</td>\n",
       "      <td>0</td>\n",
       "      <td>0</td>\n",
       "      <td>0</td>\n",
       "      <td>0</td>\n",
       "    </tr>\n",
       "    <tr>\n",
       "      <th>2</th>\n",
       "      <td>8</td>\n",
       "      <td>Looking for someone but no name</td>\n",
       "      <td>Patnm, di Maryani relem pou li banm nouvel li ...</td>\n",
       "      <td>direct</td>\n",
       "      <td>1</td>\n",
       "      <td>0</td>\n",
       "      <td>0</td>\n",
       "      <td>0</td>\n",
       "      <td>0</td>\n",
       "      <td>0</td>\n",
       "      <td>...</td>\n",
       "      <td>0</td>\n",
       "      <td>0</td>\n",
       "      <td>0</td>\n",
       "      <td>0</td>\n",
       "      <td>0</td>\n",
       "      <td>0</td>\n",
       "      <td>0</td>\n",
       "      <td>0</td>\n",
       "      <td>0</td>\n",
       "      <td>0</td>\n",
       "    </tr>\n",
       "    <tr>\n",
       "      <th>3</th>\n",
       "      <td>9</td>\n",
       "      <td>UN reports Leogane 80-90 destroyed. Only Hospi...</td>\n",
       "      <td>UN reports Leogane 80-90 destroyed. Only Hospi...</td>\n",
       "      <td>direct</td>\n",
       "      <td>1</td>\n",
       "      <td>1</td>\n",
       "      <td>0</td>\n",
       "      <td>1</td>\n",
       "      <td>0</td>\n",
       "      <td>1</td>\n",
       "      <td>...</td>\n",
       "      <td>0</td>\n",
       "      <td>0</td>\n",
       "      <td>0</td>\n",
       "      <td>0</td>\n",
       "      <td>0</td>\n",
       "      <td>0</td>\n",
       "      <td>0</td>\n",
       "      <td>0</td>\n",
       "      <td>0</td>\n",
       "      <td>0</td>\n",
       "    </tr>\n",
       "    <tr>\n",
       "      <th>4</th>\n",
       "      <td>12</td>\n",
       "      <td>says: west side of Haiti, rest of the country ...</td>\n",
       "      <td>facade ouest d Haiti et le reste du pays aujou...</td>\n",
       "      <td>direct</td>\n",
       "      <td>1</td>\n",
       "      <td>0</td>\n",
       "      <td>0</td>\n",
       "      <td>0</td>\n",
       "      <td>0</td>\n",
       "      <td>0</td>\n",
       "      <td>...</td>\n",
       "      <td>0</td>\n",
       "      <td>0</td>\n",
       "      <td>0</td>\n",
       "      <td>0</td>\n",
       "      <td>0</td>\n",
       "      <td>0</td>\n",
       "      <td>0</td>\n",
       "      <td>0</td>\n",
       "      <td>0</td>\n",
       "      <td>0</td>\n",
       "    </tr>\n",
       "  </tbody>\n",
       "</table>\n",
       "<p>5 rows × 40 columns</p>\n",
       "</div>"
      ],
      "text/plain": [
       "   id                                            message  \\\n",
       "0   2  Weather update - a cold front from Cuba that c...   \n",
       "1   7            Is the Hurricane over or is it not over   \n",
       "2   8                    Looking for someone but no name   \n",
       "3   9  UN reports Leogane 80-90 destroyed. Only Hospi...   \n",
       "4  12  says: west side of Haiti, rest of the country ...   \n",
       "\n",
       "                                            original   genre  related  \\\n",
       "0  Un front froid se retrouve sur Cuba ce matin. ...  direct        1   \n",
       "1                 Cyclone nan fini osinon li pa fini  direct        1   \n",
       "2  Patnm, di Maryani relem pou li banm nouvel li ...  direct        1   \n",
       "3  UN reports Leogane 80-90 destroyed. Only Hospi...  direct        1   \n",
       "4  facade ouest d Haiti et le reste du pays aujou...  direct        1   \n",
       "\n",
       "   request  offer  aid_related  medical_help  medical_products  ...  \\\n",
       "0        0      0            0             0                 0  ...   \n",
       "1        0      0            1             0                 0  ...   \n",
       "2        0      0            0             0                 0  ...   \n",
       "3        1      0            1             0                 1  ...   \n",
       "4        0      0            0             0                 0  ...   \n",
       "\n",
       "   aid_centers  other_infrastructure  weather_related  floods  storm  fire  \\\n",
       "0            0                     0                0       0      0     0   \n",
       "1            0                     0                1       0      1     0   \n",
       "2            0                     0                0       0      0     0   \n",
       "3            0                     0                0       0      0     0   \n",
       "4            0                     0                0       0      0     0   \n",
       "\n",
       "   earthquake  cold  other_weather  direct_report  \n",
       "0           0     0              0              0  \n",
       "1           0     0              0              0  \n",
       "2           0     0              0              0  \n",
       "3           0     0              0              0  \n",
       "4           0     0              0              0  \n",
       "\n",
       "[5 rows x 40 columns]"
      ]
     },
     "execution_count": 5,
     "metadata": {},
     "output_type": "execute_result"
    }
   ],
   "source": [
    "df.head()"
   ]
  },
  {
   "cell_type": "code",
   "execution_count": 6,
   "metadata": {},
   "outputs": [],
   "source": [
    "X = df.message.values\n",
    "y_df = df[[item for item in df.columns if item not in ['id', 'message', 'original', 'genre']]]\n",
    "y_columns = y_df.columns\n",
    "y = y_df.values"
   ]
  },
  {
   "cell_type": "code",
   "execution_count": 7,
   "metadata": {},
   "outputs": [
    {
     "data": {
      "text/plain": [
       "array(['Weather update - a cold front from Cuba that could pass over Haiti',\n",
       "       'Is the Hurricane over or is it not over',\n",
       "       'Looking for someone but no name', ...,\n",
       "       \"Proshika, operating in Cox's Bazar municipality and 5 other unions, Ramu and Chokoria, assessment, 5 kg rice, 1,5 kg lentils to 700 families.\",\n",
       "       'Some 2,000 women protesting against the conduct of the elections were teargassed as they tried to converge on the local electoral commission offices in the southern oil city of Port Harcourt.',\n",
       "       'A radical shift in thinking came about as a result of this meeting, recognizing that HIV/AIDS is at the core of the humanitarian crisis and identifying the crisis itself as a function of the HIV/AIDS pandemic.'],\n",
       "      dtype=object)"
      ]
     },
     "execution_count": 7,
     "metadata": {},
     "output_type": "execute_result"
    }
   ],
   "source": [
    "X"
   ]
  },
  {
   "cell_type": "code",
   "execution_count": 8,
   "metadata": {},
   "outputs": [
    {
     "data": {
      "text/plain": [
       "array([[1, 0, 0, ..., 0, 0, 0],\n",
       "       [1, 0, 0, ..., 0, 0, 0],\n",
       "       [1, 0, 0, ..., 0, 0, 0],\n",
       "       ...,\n",
       "       [1, 0, 0, ..., 0, 0, 0],\n",
       "       [1, 0, 0, ..., 0, 0, 0],\n",
       "       [1, 0, 0, ..., 0, 0, 0]])"
      ]
     },
     "execution_count": 8,
     "metadata": {},
     "output_type": "execute_result"
    }
   ],
   "source": [
    "y"
   ]
  },
  {
   "cell_type": "markdown",
   "metadata": {},
   "source": [
    "### 2. Write a tokenization function to process your text data"
   ]
  },
  {
   "cell_type": "code",
   "execution_count": 9,
   "metadata": {},
   "outputs": [],
   "source": [
    "from nltk.tokenize import word_tokenize\n",
    "from nltk.stem import WordNetLemmatizer\n",
    "\n",
    "def tokenize(text):\n",
    "    tokens = word_tokenize(text)\n",
    "    lemmatizer = WordNetLemmatizer()\n",
    "\n",
    "    clean_tokens = []\n",
    "    for tok in tokens:\n",
    "        clean_tok = lemmatizer.lemmatize(tok).lower().strip()\n",
    "        clean_tokens.append(clean_tok)\n",
    "\n",
    "    return clean_tokens"
   ]
  },
  {
   "cell_type": "markdown",
   "metadata": {},
   "source": [
    "### 3. Build a machine learning pipeline\n",
    "This machine pipeline should take in the `message` column as input and output classification results on the other 36 categories in the dataset. You may find the [MultiOutputClassifier](http://scikit-learn.org/stable/modules/generated/sklearn.multioutput.MultiOutputClassifier.html) helpful for predicting multiple target variables."
   ]
  },
  {
   "cell_type": "code",
   "execution_count": 10,
   "metadata": {},
   "outputs": [],
   "source": [
    "from sklearn.feature_extraction.text import CountVectorizer, TfidfTransformer\n",
    "from sklearn.model_selection import GridSearchCV\n",
    "from sklearn.multioutput import MultiOutputClassifier\n",
    "from sklearn.ensemble import RandomForestClassifier\n",
    "from sklearn.pipeline import Pipeline\n",
    "\n",
    "pipeline = Pipeline([\n",
    "    ('vect', CountVectorizer(tokenizer=tokenize)),\n",
    "    ('tfidf', TfidfTransformer()),\n",
    "    ('clf', MultiOutputClassifier(RandomForestClassifier(n_estimators=20)))\n",
    "])"
   ]
  },
  {
   "cell_type": "markdown",
   "metadata": {},
   "source": [
    "### 4. Train pipeline\n",
    "- Split data into train and test sets\n",
    "- Train pipeline"
   ]
  },
  {
   "cell_type": "code",
   "execution_count": 11,
   "metadata": {},
   "outputs": [
    {
     "name": "stderr",
     "output_type": "stream",
     "text": [
      "[nltk_data] Downloading package punkt to\n",
      "[nltk_data]     /Users/ronaldleung/nltk_data...\n",
      "[nltk_data]   Package punkt is already up-to-date!\n",
      "[nltk_data] Downloading package wordnet to\n",
      "[nltk_data]     /Users/ronaldleung/nltk_data...\n",
      "[nltk_data]   Package wordnet is already up-to-date!\n"
     ]
    },
    {
     "data": {
      "text/plain": [
       "True"
      ]
     },
     "execution_count": 11,
     "metadata": {},
     "output_type": "execute_result"
    }
   ],
   "source": [
    "from sklearn.metrics import confusion_matrix\n",
    "from sklearn.model_selection import train_test_split\n",
    "from sklearn.base import BaseEstimator, TransformerMixin\n",
    "import nltk\n",
    "nltk.download(['punkt', 'wordnet'])"
   ]
  },
  {
   "cell_type": "code",
   "execution_count": 12,
   "metadata": {},
   "outputs": [
    {
     "data": {
      "text/plain": [
       "Pipeline(memory=None,\n",
       "         steps=[('vect',\n",
       "                 CountVectorizer(analyzer='word', binary=False,\n",
       "                                 decode_error='strict',\n",
       "                                 dtype=<class 'numpy.int64'>, encoding='utf-8',\n",
       "                                 input='content', lowercase=True, max_df=1.0,\n",
       "                                 max_features=None, min_df=1,\n",
       "                                 ngram_range=(1, 1), preprocessor=None,\n",
       "                                 stop_words=None, strip_accents=None,\n",
       "                                 token_pattern='(?u)\\\\b\\\\w\\\\w+\\\\b',\n",
       "                                 tokenizer=<function tokenize at...\n",
       "                 MultiOutputClassifier(estimator=RandomForestClassifier(bootstrap=True,\n",
       "                                                                        class_weight=None,\n",
       "                                                                        criterion='gini',\n",
       "                                                                        max_depth=None,\n",
       "                                                                        max_features='auto',\n",
       "                                                                        max_leaf_nodes=None,\n",
       "                                                                        min_impurity_decrease=0.0,\n",
       "                                                                        min_impurity_split=None,\n",
       "                                                                        min_samples_leaf=1,\n",
       "                                                                        min_samples_split=2,\n",
       "                                                                        min_weight_fraction_leaf=0.0,\n",
       "                                                                        n_estimators=20,\n",
       "                                                                        n_jobs=None,\n",
       "                                                                        oob_score=False,\n",
       "                                                                        random_state=None,\n",
       "                                                                        verbose=0,\n",
       "                                                                        warm_start=False),\n",
       "                                       n_jobs=None))],\n",
       "         verbose=False)"
      ]
     },
     "execution_count": 12,
     "metadata": {},
     "output_type": "execute_result"
    }
   ],
   "source": [
    "X_train, X_test, y_train, y_test = train_test_split(X, y, test_size=0.2, random_state=42)\n",
    "pipeline.fit(X_train, y_train)"
   ]
  },
  {
   "cell_type": "markdown",
   "metadata": {},
   "source": [
    "### 5. Test your model\n",
    "Report the f1 score, precision and recall for each output category of the dataset. You can do this by iterating through the columns and calling sklearn's `classification_report` on each."
   ]
  },
  {
   "cell_type": "code",
   "execution_count": 13,
   "metadata": {},
   "outputs": [],
   "source": [
    "y_pred = pipeline.predict(X_test)"
   ]
  },
  {
   "cell_type": "code",
   "execution_count": 14,
   "metadata": {},
   "outputs": [
    {
     "data": {
      "text/plain": [
       "array([[0, 0, 0, ..., 0, 0, 0],\n",
       "       [1, 0, 0, ..., 0, 0, 0],\n",
       "       [0, 0, 0, ..., 0, 0, 0],\n",
       "       ...,\n",
       "       [0, 0, 0, ..., 0, 0, 0],\n",
       "       [1, 0, 0, ..., 0, 0, 0],\n",
       "       [1, 1, 0, ..., 0, 0, 1]])"
      ]
     },
     "execution_count": 14,
     "metadata": {},
     "output_type": "execute_result"
    }
   ],
   "source": [
    "y_pred"
   ]
  },
  {
   "cell_type": "code",
   "execution_count": 15,
   "metadata": {},
   "outputs": [
    {
     "data": {
      "text/plain": [
       "(36,)"
      ]
     },
     "execution_count": 15,
     "metadata": {},
     "output_type": "execute_result"
    }
   ],
   "source": [
    "y_columns.shape"
   ]
  },
  {
   "cell_type": "code",
   "execution_count": 16,
   "metadata": {},
   "outputs": [
    {
     "data": {
      "text/plain": [
       "(5236, 36)"
      ]
     },
     "execution_count": 16,
     "metadata": {},
     "output_type": "execute_result"
    }
   ],
   "source": [
    "y_test.shape"
   ]
  },
  {
   "cell_type": "code",
   "execution_count": 17,
   "metadata": {},
   "outputs": [
    {
     "data": {
      "text/plain": [
       "(5236, 36)"
      ]
     },
     "execution_count": 17,
     "metadata": {},
     "output_type": "execute_result"
    }
   ],
   "source": [
    "y_pred.shape"
   ]
  },
  {
   "cell_type": "code",
   "execution_count": 18,
   "metadata": {},
   "outputs": [
    {
     "data": {
      "text/plain": [
       "Index(['related', 'request', 'offer', 'aid_related', 'medical_help',\n",
       "       'medical_products', 'search_and_rescue', 'security', 'military',\n",
       "       'child_alone', 'water', 'food', 'shelter', 'clothing', 'money',\n",
       "       'missing_people', 'refugees', 'death', 'other_aid',\n",
       "       'infrastructure_related', 'transport', 'buildings', 'electricity',\n",
       "       'tools', 'hospitals', 'shops', 'aid_centers', 'other_infrastructure',\n",
       "       'weather_related', 'floods', 'storm', 'fire', 'earthquake', 'cold',\n",
       "       'other_weather', 'direct_report'],\n",
       "      dtype='object')"
      ]
     },
     "execution_count": 18,
     "metadata": {},
     "output_type": "execute_result"
    }
   ],
   "source": [
    "y_columns"
   ]
  },
  {
   "cell_type": "code",
   "execution_count": 19,
   "metadata": {},
   "outputs": [],
   "source": [
    "qa_test = [\"My daughter is missing... I couldn't find my mom. Or my dad. Or my dog. Help! Earth quake earthquake!! Ground shaking and building falling!\"]"
   ]
  },
  {
   "cell_type": "code",
   "execution_count": 20,
   "metadata": {},
   "outputs": [],
   "source": [
    "qa_pred = pipeline.predict(qa_test)"
   ]
  },
  {
   "cell_type": "code",
   "execution_count": 21,
   "metadata": {},
   "outputs": [
    {
     "data": {
      "text/plain": [
       "array([[1, 0, 0, 1, 0, 0, 0, 0, 0, 0, 0, 0, 0, 0, 0, 0, 0, 0, 0, 0, 0, 0,\n",
       "        0, 0, 0, 0, 0, 0, 1, 0, 0, 0, 1, 0, 0, 0]])"
      ]
     },
     "execution_count": 21,
     "metadata": {},
     "output_type": "execute_result"
    }
   ],
   "source": [
    "qa_pred"
   ]
  },
  {
   "cell_type": "code",
   "execution_count": 22,
   "metadata": {},
   "outputs": [],
   "source": [
    "missingSample = df[df.missing_people == 1]"
   ]
  },
  {
   "cell_type": "code",
   "execution_count": 23,
   "metadata": {},
   "outputs": [
    {
     "data": {
      "text/plain": [
       "'I woul like to know if aide is only available in pap as the provinces where badly hit as well'"
      ]
     },
     "execution_count": 23,
     "metadata": {},
     "output_type": "execute_result"
    }
   ],
   "source": [
    "missingSample.iloc[0][\"message\"]"
   ]
  },
  {
   "cell_type": "code",
   "execution_count": 24,
   "metadata": {},
   "outputs": [
    {
     "data": {
      "text/plain": [
       "id                                                                      134\n",
       "message                   I woul like to know if aide is only available ...\n",
       "original                  Sivouple mwen tarenmen konnen eske ed yo sepou...\n",
       "genre                                                                direct\n",
       "related                                                                   1\n",
       "request                                                                   0\n",
       "offer                                                                     0\n",
       "aid_related                                                               1\n",
       "medical_help                                                              1\n",
       "medical_products                                                          1\n",
       "search_and_rescue                                                         0\n",
       "security                                                                  1\n",
       "military                                                                  0\n",
       "child_alone                                                               0\n",
       "water                                                                     0\n",
       "food                                                                      0\n",
       "shelter                                                                   0\n",
       "clothing                                                                  0\n",
       "money                                                                     0\n",
       "missing_people                                                            1\n",
       "refugees                                                                  0\n",
       "death                                                                     1\n",
       "other_aid                                                                 1\n",
       "infrastructure_related                                                    0\n",
       "transport                                                                 1\n",
       "buildings                                                                 0\n",
       "electricity                                                               0\n",
       "tools                                                                     0\n",
       "hospitals                                                                 0\n",
       "shops                                                                     0\n",
       "aid_centers                                                               0\n",
       "other_infrastructure                                                      0\n",
       "weather_related                                                           1\n",
       "floods                                                                    1\n",
       "storm                                                                     0\n",
       "fire                                                                      0\n",
       "earthquake                                                                0\n",
       "cold                                                                      0\n",
       "other_weather                                                             0\n",
       "direct_report                                                             0\n",
       "Name: 107, dtype: object"
      ]
     },
     "execution_count": 24,
     "metadata": {},
     "output_type": "execute_result"
    }
   ],
   "source": [
    "missingSample.iloc[0]"
   ]
  },
  {
   "cell_type": "code",
   "execution_count": 25,
   "metadata": {},
   "outputs": [
    {
     "data": {
      "text/plain": [
       "1    19876\n",
       "0     6116\n",
       "2      188\n",
       "Name: related, dtype: int64"
      ]
     },
     "execution_count": 25,
     "metadata": {},
     "output_type": "execute_result"
    }
   ],
   "source": [
    "df.related.value_counts()"
   ]
  },
  {
   "cell_type": "code",
   "execution_count": 36,
   "metadata": {},
   "outputs": [],
   "source": [
    "from sklearn.metrics import classification_report"
   ]
  },
  {
   "cell_type": "code",
   "execution_count": 26,
   "metadata": {},
   "outputs": [
    {
     "name": "stderr",
     "output_type": "stream",
     "text": [
      "/Users/ronaldleung/Anaconda/anaconda3/lib/python3.7/site-packages/sklearn/metrics/classification.py:1437: UndefinedMetricWarning: Precision and F-score are ill-defined and being set to 0.0 in labels with no predicted samples.\n",
      "  'precision', 'predicted', average, warn_for)\n",
      "/Users/ronaldleung/Anaconda/anaconda3/lib/python3.7/site-packages/sklearn/metrics/classification.py:1439: UndefinedMetricWarning: Recall and F-score are ill-defined and being set to 0.0 in labels with no true samples.\n",
      "  'recall', 'true', average, warn_for)\n"
     ]
    },
    {
     "name": "stdout",
     "output_type": "stream",
     "text": [
      "Report for column related\n",
      "              precision    recall  f1-score   support\n",
      "\n",
      "           0       0.26      0.99      0.41      1249\n",
      "           1       0.97      0.10      0.19      3946\n",
      "           2       0.00      0.00      0.00        41\n",
      "\n",
      "    accuracy                           0.31      5236\n",
      "   macro avg       0.41      0.36      0.20      5236\n",
      "weighted avg       0.79      0.31      0.24      5236\n",
      "\n",
      "\n",
      "\n",
      "Report for column request\n",
      "              precision    recall  f1-score   support\n",
      "\n",
      "           0       0.88      0.99      0.93      4311\n",
      "           1       0.85      0.38      0.53       925\n",
      "\n",
      "    accuracy                           0.88      5236\n",
      "   macro avg       0.87      0.68      0.73      5236\n",
      "weighted avg       0.88      0.88      0.86      5236\n",
      "\n",
      "\n",
      "\n",
      "Report for column offer\n",
      "              precision    recall  f1-score   support\n",
      "\n",
      "           0       0.99      0.92      0.96      5208\n",
      "           1       0.00      0.00      0.00        28\n",
      "\n",
      "    accuracy                           0.92      5236\n",
      "   macro avg       0.50      0.46      0.48      5236\n",
      "weighted avg       0.99      0.92      0.95      5236\n",
      "\n",
      "\n",
      "\n",
      "Report for column aid_related\n",
      "              precision    recall  f1-score   support\n",
      "\n",
      "           0       0.62      0.98      0.76      3029\n",
      "           1       0.88      0.17      0.28      2207\n",
      "\n",
      "    accuracy                           0.64      5236\n",
      "   macro avg       0.75      0.57      0.52      5236\n",
      "weighted avg       0.73      0.64      0.56      5236\n",
      "\n",
      "\n",
      "\n",
      "Report for column medical_help\n",
      "              precision    recall  f1-score   support\n",
      "\n",
      "           0       0.92      0.92      0.92      4808\n",
      "           1       0.12      0.12      0.12       428\n",
      "\n",
      "    accuracy                           0.86      5236\n",
      "   macro avg       0.52      0.52      0.52      5236\n",
      "weighted avg       0.86      0.86      0.86      5236\n",
      "\n",
      "\n",
      "\n",
      "Report for column medical_products\n",
      "              precision    recall  f1-score   support\n",
      "\n",
      "           0       0.95      0.92      0.94      4975\n",
      "           1       0.07      0.11      0.09       261\n",
      "\n",
      "    accuracy                           0.88      5236\n",
      "   macro avg       0.51      0.52      0.51      5236\n",
      "weighted avg       0.91      0.88      0.89      5236\n",
      "\n",
      "\n",
      "\n",
      "Report for column search_and_rescue\n",
      "              precision    recall  f1-score   support\n",
      "\n",
      "           0       0.97      0.92      0.95      5088\n",
      "           1       0.03      0.09      0.05       148\n",
      "\n",
      "    accuracy                           0.90      5236\n",
      "   macro avg       0.50      0.50      0.50      5236\n",
      "weighted avg       0.95      0.90      0.92      5236\n",
      "\n",
      "\n",
      "\n",
      "Report for column security\n",
      "              precision    recall  f1-score   support\n",
      "\n",
      "           0       0.98      0.92      0.95      5133\n",
      "           1       0.03      0.11      0.04       103\n",
      "\n",
      "    accuracy                           0.90      5236\n",
      "   macro avg       0.50      0.51      0.50      5236\n",
      "weighted avg       0.96      0.90      0.93      5236\n",
      "\n",
      "\n",
      "\n",
      "Report for column military\n",
      "              precision    recall  f1-score   support\n",
      "\n",
      "           0       0.96      0.92      0.94      5044\n",
      "           1       0.01      0.02      0.01       192\n",
      "\n",
      "    accuracy                           0.89      5236\n",
      "   macro avg       0.49      0.47      0.48      5236\n",
      "weighted avg       0.93      0.89      0.91      5236\n",
      "\n",
      "\n",
      "\n",
      "Report for column child_alone\n",
      "              precision    recall  f1-score   support\n",
      "\n",
      "           0       1.00      0.92      0.96      5236\n",
      "           1       0.00      0.00      0.00         0\n",
      "\n",
      "    accuracy                           0.92      5236\n",
      "   macro avg       0.50      0.46      0.48      5236\n",
      "weighted avg       1.00      0.92      0.96      5236\n",
      "\n",
      "\n",
      "\n",
      "Report for column water\n",
      "              precision    recall  f1-score   support\n",
      "\n",
      "           0       0.95      0.94      0.94      4880\n",
      "           1       0.28      0.33      0.30       356\n",
      "\n",
      "    accuracy                           0.90      5236\n",
      "   macro avg       0.61      0.63      0.62      5236\n",
      "weighted avg       0.90      0.90      0.90      5236\n",
      "\n",
      "\n",
      "\n",
      "Report for column food\n",
      "              precision    recall  f1-score   support\n",
      "\n",
      "           0       0.92      0.95      0.93      4653\n",
      "           1       0.43      0.31      0.36       583\n",
      "\n",
      "    accuracy                           0.88      5236\n",
      "   macro avg       0.68      0.63      0.65      5236\n",
      "weighted avg       0.86      0.88      0.87      5236\n",
      "\n",
      "\n",
      "\n",
      "Report for column shelter\n",
      "              precision    recall  f1-score   support\n",
      "\n",
      "           0       0.93      0.94      0.93      4770\n",
      "           1       0.30      0.27      0.28       466\n",
      "\n",
      "    accuracy                           0.88      5236\n",
      "   macro avg       0.61      0.60      0.61      5236\n",
      "weighted avg       0.87      0.88      0.88      5236\n",
      "\n",
      "\n",
      "\n",
      "Report for column clothing\n",
      "              precision    recall  f1-score   support\n",
      "\n",
      "           0       0.99      0.92      0.95      5162\n",
      "           1       0.02      0.12      0.04        74\n",
      "\n",
      "    accuracy                           0.91      5236\n",
      "   macro avg       0.50      0.52      0.49      5236\n",
      "weighted avg       0.97      0.91      0.94      5236\n",
      "\n",
      "\n",
      "\n",
      "Report for column money\n",
      "              precision    recall  f1-score   support\n",
      "\n",
      "           0       0.98      0.92      0.95      5114\n",
      "           1       0.04      0.13      0.06       122\n",
      "\n",
      "    accuracy                           0.90      5236\n",
      "   macro avg       0.51      0.53      0.50      5236\n",
      "weighted avg       0.96      0.90      0.93      5236\n",
      "\n",
      "\n",
      "\n",
      "Report for column missing_people\n",
      "              precision    recall  f1-score   support\n",
      "\n",
      "           0       0.99      0.92      0.95      5185\n",
      "           1       0.00      0.04      0.01        51\n",
      "\n",
      "    accuracy                           0.91      5236\n",
      "   macro avg       0.50      0.48      0.48      5236\n",
      "weighted avg       0.98      0.91      0.94      5236\n",
      "\n",
      "\n",
      "\n",
      "Report for column refugees\n",
      "              precision    recall  f1-score   support\n",
      "\n",
      "           0       0.96      0.92      0.94      5040\n",
      "           1       0.04      0.08      0.05       196\n",
      "\n",
      "    accuracy                           0.89      5236\n",
      "   macro avg       0.50      0.50      0.49      5236\n",
      "weighted avg       0.93      0.89      0.91      5236\n",
      "\n",
      "\n",
      "\n",
      "Report for column death\n",
      "              precision    recall  f1-score   support\n",
      "\n",
      "           0       0.95      0.92      0.94      4993\n",
      "           1       0.05      0.09      0.06       243\n",
      "\n",
      "    accuracy                           0.88      5236\n",
      "   macro avg       0.50      0.50      0.50      5236\n",
      "weighted avg       0.91      0.88      0.90      5236\n",
      "\n",
      "\n",
      "\n",
      "Report for column other_aid\n",
      "              precision    recall  f1-score   support\n",
      "\n",
      "           0       0.88      0.94      0.91      4544\n",
      "           1       0.30      0.18      0.22       692\n",
      "\n",
      "    accuracy                           0.84      5236\n",
      "   macro avg       0.59      0.56      0.57      5236\n",
      "weighted avg       0.80      0.84      0.82      5236\n",
      "\n",
      "\n",
      "\n",
      "Report for column infrastructure_related\n",
      "              precision    recall  f1-score   support\n",
      "\n",
      "           0       0.93      0.92      0.92      4865\n",
      "           1       0.06      0.06      0.06       371\n",
      "\n",
      "    accuracy                           0.86      5236\n",
      "   macro avg       0.49      0.49      0.49      5236\n",
      "weighted avg       0.87      0.86      0.86      5236\n",
      "\n",
      "\n",
      "\n",
      "Report for column transport\n",
      "              precision    recall  f1-score   support\n",
      "\n",
      "           0       0.95      0.92      0.94      4997\n",
      "           1       0.02      0.04      0.03       239\n",
      "\n",
      "    accuracy                           0.88      5236\n",
      "   macro avg       0.49      0.48      0.48      5236\n",
      "weighted avg       0.91      0.88      0.89      5236\n",
      "\n",
      "\n",
      "\n",
      "Report for column buildings\n",
      "              precision    recall  f1-score   support\n",
      "\n",
      "           0       0.95      0.92      0.93      4953\n",
      "           1       0.06      0.10      0.08       283\n",
      "\n",
      "    accuracy                           0.88      5236\n",
      "   macro avg       0.51      0.51      0.51      5236\n",
      "weighted avg       0.90      0.88      0.89      5236\n",
      "\n",
      "\n",
      "\n",
      "Report for column electricity\n",
      "              precision    recall  f1-score   support\n",
      "\n",
      "           0       0.98      0.92      0.95      5133\n",
      "           1       0.01      0.05      0.02       103\n",
      "\n",
      "    accuracy                           0.90      5236\n",
      "   macro avg       0.50      0.48      0.48      5236\n",
      "weighted avg       0.96      0.90      0.93      5236\n",
      "\n",
      "\n",
      "\n",
      "Report for column tools\n",
      "              precision    recall  f1-score   support\n",
      "\n",
      "           0       0.99      0.92      0.96      5209\n",
      "           1       0.00      0.04      0.00        27\n",
      "\n",
      "    accuracy                           0.92      5236\n",
      "   macro avg       0.50      0.48      0.48      5236\n",
      "weighted avg       0.99      0.92      0.95      5236\n",
      "\n",
      "\n",
      "\n",
      "Report for column hospitals\n",
      "              precision    recall  f1-score   support\n",
      "\n",
      "           0       0.99      0.92      0.95      5175\n",
      "           1       0.01      0.10      0.03        61\n",
      "\n",
      "    accuracy                           0.91      5236\n",
      "   macro avg       0.50      0.51      0.49      5236\n",
      "weighted avg       0.98      0.91      0.94      5236\n",
      "\n",
      "\n",
      "\n",
      "Report for column shops\n",
      "              precision    recall  f1-score   support\n",
      "\n",
      "           0       0.99      0.92      0.96      5201\n",
      "           1       0.00      0.06      0.01        35\n",
      "\n",
      "    accuracy                           0.91      5236\n",
      "   macro avg       0.50      0.49      0.48      5236\n",
      "weighted avg       0.99      0.91      0.95      5236\n",
      "\n",
      "\n",
      "\n",
      "Report for column aid_centers\n",
      "              precision    recall  f1-score   support\n",
      "\n",
      "           0       0.99      0.92      0.95      5164\n",
      "           1       0.00      0.03      0.01        72\n",
      "\n",
      "    accuracy                           0.91      5236\n",
      "   macro avg       0.50      0.47      0.48      5236\n",
      "weighted avg       0.97      0.91      0.94      5236\n",
      "\n",
      "\n",
      "\n",
      "Report for column other_infrastructure\n",
      "              precision    recall  f1-score   support\n",
      "\n",
      "           0       0.95      0.92      0.94      4993\n",
      "           1       0.04      0.07      0.05       243\n",
      "\n",
      "    accuracy                           0.88      5236\n",
      "   macro avg       0.50      0.49      0.49      5236\n",
      "weighted avg       0.91      0.88      0.89      5236\n",
      "\n",
      "\n",
      "\n",
      "Report for column weather_related\n",
      "              precision    recall  f1-score   support\n",
      "\n",
      "           0       0.73      0.91      0.81      3849\n",
      "           1       0.16      0.05      0.07      1387\n",
      "\n",
      "    accuracy                           0.68      5236\n",
      "   macro avg       0.44      0.48      0.44      5236\n",
      "weighted avg       0.58      0.68      0.61      5236\n",
      "\n",
      "\n",
      "\n",
      "Report for column floods\n",
      "              precision    recall  f1-score   support\n",
      "\n",
      "           0       0.92      0.92      0.92      4844\n",
      "           1       0.05      0.05      0.05       392\n",
      "\n",
      "    accuracy                           0.85      5236\n",
      "   macro avg       0.48      0.48      0.48      5236\n",
      "weighted avg       0.86      0.85      0.85      5236\n",
      "\n",
      "\n",
      "\n",
      "Report for column storm\n",
      "              precision    recall  f1-score   support\n",
      "\n",
      "           0       0.90      0.91      0.91      4747\n",
      "           1       0.03      0.03      0.03       489\n",
      "\n",
      "    accuracy                           0.83      5236\n",
      "   macro avg       0.47      0.47      0.47      5236\n",
      "weighted avg       0.82      0.83      0.83      5236\n",
      "\n",
      "\n",
      "\n",
      "Report for column fire\n",
      "              precision    recall  f1-score   support\n",
      "\n",
      "           0       0.99      0.92      0.95      5178\n",
      "           1       0.00      0.03      0.01        58\n",
      "\n",
      "    accuracy                           0.91      5236\n",
      "   macro avg       0.50      0.48      0.48      5236\n",
      "weighted avg       0.98      0.91      0.94      5236\n",
      "\n",
      "\n",
      "\n",
      "Report for column earthquake\n",
      "              precision    recall  f1-score   support\n",
      "\n",
      "           0       0.91      0.92      0.91      4780\n",
      "           1       0.06      0.06      0.06       456\n",
      "\n",
      "    accuracy                           0.84      5236\n",
      "   macro avg       0.49      0.49      0.49      5236\n",
      "weighted avg       0.84      0.84      0.84      5236\n",
      "\n",
      "\n",
      "\n",
      "Report for column cold\n",
      "              precision    recall  f1-score   support\n",
      "\n",
      "           0       0.98      0.92      0.95      5123\n",
      "           1       0.01      0.04      0.02       113\n",
      "\n",
      "    accuracy                           0.90      5236\n",
      "   macro avg       0.49      0.48      0.48      5236\n",
      "weighted avg       0.96      0.90      0.93      5236\n",
      "\n",
      "\n",
      "\n",
      "Report for column other_weather\n",
      "              precision    recall  f1-score   support\n",
      "\n",
      "           0       0.95      0.92      0.94      4993\n",
      "           1       0.03      0.05      0.04       243\n",
      "\n",
      "    accuracy                           0.88      5236\n",
      "   macro avg       0.49      0.49      0.49      5236\n",
      "weighted avg       0.91      0.88      0.89      5236\n",
      "\n",
      "\n",
      "\n",
      "Report for column direct_report\n",
      "              precision    recall  f1-score   support\n",
      "\n",
      "           0       0.85      0.98      0.91      4183\n",
      "           1       0.81      0.32      0.46      1053\n",
      "\n",
      "    accuracy                           0.85      5236\n",
      "   macro avg       0.83      0.65      0.69      5236\n",
      "weighted avg       0.84      0.85      0.82      5236\n",
      "\n",
      "\n",
      "\n"
     ]
    }
   ],
   "source": [
    "for i in range(0,len(y_columns)):\n",
    "    targetName = []\n",
    "    for j in range(0, len(pd.Series(y_test[:,i]).value_counts())):\n",
    "        targetName.append(y_columns[i] + \"-\" +str(j))\n",
    "    print(\"Report for column \" + y_columns[i] + \"\\n\" + classification_report(y_test[:,i], y_pred[:,1]))\n",
    "    print (\"\\n\")"
   ]
  },
  {
   "cell_type": "markdown",
   "metadata": {},
   "source": [
    "### 6. Improve your model\n",
    "Use grid search to find better parameters. "
   ]
  },
  {
   "cell_type": "code",
   "execution_count": 27,
   "metadata": {},
   "outputs": [],
   "source": [
    "'''\n",
    "These were the original parameters used to run GridSearch and it takes forever. Picking only the best estimates \n",
    "from the initial run. \n",
    "parameters = {\n",
    "    'vect__ngram_range': ((1, 1), (1, 2)),\n",
    "    'vect__max_df': (0.5, 0.75, 1.0),\n",
    "    'vect__max_features': (None, 5000, 10000),\n",
    "    'tfidf__use_idf': (True, False),\n",
    "    'clf__n_estimators': [50, 100, 200],\n",
    "    'clf__min_samples_split': [2, 3, 4]\n",
    "}\n",
    "'''\n",
    "\n",
    "parameters = {\n",
    "    'vect__ngram_range': [(1, 2)],\n",
    "    'vect__max_df': [0.5],\n",
    "    'vect__max_features': [5000],\n",
    "    'tfidf__use_idf': (True, False)\n",
    "}\n",
    "\n",
    "cv = GridSearchCV(pipeline, param_grid=parameters)"
   ]
  },
  {
   "cell_type": "markdown",
   "metadata": {},
   "source": [
    "### 7. Test your model\n",
    "Show the accuracy, precision, and recall of the tuned model.  \n",
    "\n",
    "Since this project focuses on code quality, process, and  pipelines, there is no minimum performance metric needed to pass. However, make sure to fine tune your models for accuracy, precision and recall to make your project stand out - especially for your portfolio!"
   ]
  },
  {
   "cell_type": "code",
   "execution_count": 28,
   "metadata": {},
   "outputs": [
    {
     "data": {
      "text/plain": [
       "(20944,)"
      ]
     },
     "execution_count": 28,
     "metadata": {},
     "output_type": "execute_result"
    }
   ],
   "source": [
    "X_train.shape"
   ]
  },
  {
   "cell_type": "code",
   "execution_count": 29,
   "metadata": {},
   "outputs": [
    {
     "data": {
      "text/plain": [
       "(20944, 36)"
      ]
     },
     "execution_count": 29,
     "metadata": {},
     "output_type": "execute_result"
    }
   ],
   "source": [
    "y_train.shape"
   ]
  },
  {
   "cell_type": "code",
   "execution_count": 30,
   "metadata": {},
   "outputs": [
    {
     "name": "stdout",
     "output_type": "stream",
     "text": [
      "Start time is:  2019-12-25 20:18:32.708827\n"
     ]
    },
    {
     "name": "stderr",
     "output_type": "stream",
     "text": [
      "/Users/ronaldleung/Anaconda/anaconda3/lib/python3.7/site-packages/sklearn/model_selection/_split.py:1978: FutureWarning: The default value of cv will change from 3 to 5 in version 0.22. Specify it explicitly to silence this warning.\n",
      "  warnings.warn(CV_WARNING, FutureWarning)\n"
     ]
    },
    {
     "name": "stdout",
     "output_type": "stream",
     "text": [
      "End time is:  2019-12-25 20:23:01.662693\n"
     ]
    }
   ],
   "source": [
    "import datetime\n",
    "print(\"Start time is: \", datetime.datetime.now())\n",
    "\n",
    "cv.fit(X_train, y_train)\n",
    "\n",
    "print(\"End time is: \", datetime.datetime.now())\n"
   ]
  },
  {
   "cell_type": "code",
   "execution_count": 31,
   "metadata": {},
   "outputs": [],
   "source": [
    "y_pred = cv.predict(X_test)"
   ]
  },
  {
   "cell_type": "code",
   "execution_count": 32,
   "metadata": {},
   "outputs": [
    {
     "name": "stderr",
     "output_type": "stream",
     "text": [
      "/Users/ronaldleung/Anaconda/anaconda3/lib/python3.7/site-packages/sklearn/metrics/classification.py:1437: UndefinedMetricWarning: Precision and F-score are ill-defined and being set to 0.0 in labels with no predicted samples.\n",
      "  'precision', 'predicted', average, warn_for)\n",
      "/Users/ronaldleung/Anaconda/anaconda3/lib/python3.7/site-packages/sklearn/metrics/classification.py:1439: UndefinedMetricWarning: Recall and F-score are ill-defined and being set to 0.0 in labels with no true samples.\n",
      "  'recall', 'true', average, warn_for)\n"
     ]
    },
    {
     "name": "stdout",
     "output_type": "stream",
     "text": [
      "Report for column related\n",
      "              precision    recall  f1-score   support\n",
      "\n",
      "           0       0.26      0.99      0.41      1249\n",
      "           1       0.96      0.12      0.22      3946\n",
      "           2       0.00      0.00      0.00        41\n",
      "\n",
      "    accuracy                           0.33      5236\n",
      "   macro avg       0.41      0.37      0.21      5236\n",
      "weighted avg       0.79      0.33      0.26      5236\n",
      "\n",
      "\n",
      "\n",
      "Report for column request\n",
      "              precision    recall  f1-score   support\n",
      "\n",
      "           0       0.90      0.98      0.94      4311\n",
      "           1       0.85      0.47      0.60       925\n",
      "\n",
      "    accuracy                           0.89      5236\n",
      "   macro avg       0.87      0.72      0.77      5236\n",
      "weighted avg       0.89      0.89      0.88      5236\n",
      "\n",
      "\n",
      "\n",
      "Report for column offer\n",
      "              precision    recall  f1-score   support\n",
      "\n",
      "           0       0.99      0.90      0.95      5208\n",
      "           1       0.00      0.00      0.00        28\n",
      "\n",
      "    accuracy                           0.90      5236\n",
      "   macro avg       0.50      0.45      0.47      5236\n",
      "weighted avg       0.99      0.90      0.94      5236\n",
      "\n",
      "\n",
      "\n",
      "Report for column aid_related\n",
      "              precision    recall  f1-score   support\n",
      "\n",
      "           0       0.63      0.98      0.76      3029\n",
      "           1       0.86      0.20      0.32      2207\n",
      "\n",
      "    accuracy                           0.65      5236\n",
      "   macro avg       0.74      0.59      0.54      5236\n",
      "weighted avg       0.72      0.65      0.58      5236\n",
      "\n",
      "\n",
      "\n",
      "Report for column medical_help\n",
      "              precision    recall  f1-score   support\n",
      "\n",
      "           0       0.92      0.91      0.91      4808\n",
      "           1       0.12      0.14      0.13       428\n",
      "\n",
      "    accuracy                           0.84      5236\n",
      "   macro avg       0.52      0.53      0.52      5236\n",
      "weighted avg       0.86      0.84      0.85      5236\n",
      "\n",
      "\n",
      "\n",
      "Report for column medical_products\n",
      "              precision    recall  f1-score   support\n",
      "\n",
      "           0       0.95      0.90      0.93      4975\n",
      "           1       0.07      0.14      0.10       261\n",
      "\n",
      "    accuracy                           0.87      5236\n",
      "   macro avg       0.51      0.52      0.51      5236\n",
      "weighted avg       0.91      0.87      0.89      5236\n",
      "\n",
      "\n",
      "\n",
      "Report for column search_and_rescue\n",
      "              precision    recall  f1-score   support\n",
      "\n",
      "           0       0.97      0.90      0.94      5088\n",
      "           1       0.04      0.12      0.05       148\n",
      "\n",
      "    accuracy                           0.88      5236\n",
      "   macro avg       0.50      0.51      0.50      5236\n",
      "weighted avg       0.95      0.88      0.91      5236\n",
      "\n",
      "\n",
      "\n",
      "Report for column security\n",
      "              precision    recall  f1-score   support\n",
      "\n",
      "           0       0.98      0.90      0.94      5133\n",
      "           1       0.02      0.12      0.04       103\n",
      "\n",
      "    accuracy                           0.89      5236\n",
      "   macro avg       0.50      0.51      0.49      5236\n",
      "weighted avg       0.96      0.89      0.92      5236\n",
      "\n",
      "\n",
      "\n",
      "Report for column military\n",
      "              precision    recall  f1-score   support\n",
      "\n",
      "           0       0.96      0.90      0.93      5044\n",
      "           1       0.01      0.03      0.01       192\n",
      "\n",
      "    accuracy                           0.87      5236\n",
      "   macro avg       0.49      0.46      0.47      5236\n",
      "weighted avg       0.93      0.87      0.90      5236\n",
      "\n",
      "\n",
      "\n",
      "Report for column child_alone\n",
      "              precision    recall  f1-score   support\n",
      "\n",
      "           0       1.00      0.90      0.95      5236\n",
      "           1       0.00      0.00      0.00         0\n",
      "\n",
      "    accuracy                           0.90      5236\n",
      "   macro avg       0.50      0.45      0.47      5236\n",
      "weighted avg       1.00      0.90      0.95      5236\n",
      "\n",
      "\n",
      "\n",
      "Report for column water\n",
      "              precision    recall  f1-score   support\n",
      "\n",
      "           0       0.95      0.92      0.94      4880\n",
      "           1       0.25      0.36      0.29       356\n",
      "\n",
      "    accuracy                           0.88      5236\n",
      "   macro avg       0.60      0.64      0.61      5236\n",
      "weighted avg       0.90      0.88      0.89      5236\n",
      "\n",
      "\n",
      "\n",
      "Report for column food\n",
      "              precision    recall  f1-score   support\n",
      "\n",
      "           0       0.92      0.94      0.93      4653\n",
      "           1       0.43      0.37      0.40       583\n",
      "\n",
      "    accuracy                           0.87      5236\n",
      "   macro avg       0.67      0.65      0.66      5236\n",
      "weighted avg       0.87      0.87      0.87      5236\n",
      "\n",
      "\n",
      "\n",
      "Report for column shelter\n",
      "              precision    recall  f1-score   support\n",
      "\n",
      "           0       0.93      0.92      0.93      4770\n",
      "           1       0.29      0.32      0.30       466\n",
      "\n",
      "    accuracy                           0.87      5236\n",
      "   macro avg       0.61      0.62      0.62      5236\n",
      "weighted avg       0.88      0.87      0.87      5236\n",
      "\n",
      "\n",
      "\n",
      "Report for column clothing\n",
      "              precision    recall  f1-score   support\n",
      "\n",
      "           0       0.99      0.90      0.94      5162\n",
      "           1       0.03      0.19      0.05        74\n",
      "\n",
      "    accuracy                           0.89      5236\n",
      "   macro avg       0.51      0.55      0.50      5236\n",
      "weighted avg       0.97      0.89      0.93      5236\n",
      "\n",
      "\n",
      "\n",
      "Report for column money\n",
      "              precision    recall  f1-score   support\n",
      "\n",
      "           0       0.98      0.90      0.94      5114\n",
      "           1       0.04      0.17      0.07       122\n",
      "\n",
      "    accuracy                           0.89      5236\n",
      "   macro avg       0.51      0.54      0.50      5236\n",
      "weighted avg       0.96      0.89      0.92      5236\n",
      "\n",
      "\n",
      "\n",
      "Report for column missing_people\n",
      "              precision    recall  f1-score   support\n",
      "\n",
      "           0       0.99      0.90      0.94      5185\n",
      "           1       0.01      0.06      0.01        51\n",
      "\n",
      "    accuracy                           0.89      5236\n",
      "   macro avg       0.50      0.48      0.48      5236\n",
      "weighted avg       0.98      0.89      0.93      5236\n",
      "\n",
      "\n",
      "\n",
      "Report for column refugees\n",
      "              precision    recall  f1-score   support\n",
      "\n",
      "           0       0.96      0.90      0.93      5040\n",
      "           1       0.03      0.08      0.04       196\n",
      "\n",
      "    accuracy                           0.87      5236\n",
      "   macro avg       0.50      0.49      0.49      5236\n",
      "weighted avg       0.93      0.87      0.90      5236\n",
      "\n",
      "\n",
      "\n",
      "Report for column death\n",
      "              precision    recall  f1-score   support\n",
      "\n",
      "           0       0.95      0.90      0.93      4993\n",
      "           1       0.06      0.12      0.08       243\n",
      "\n",
      "    accuracy                           0.87      5236\n",
      "   macro avg       0.51      0.51      0.50      5236\n",
      "weighted avg       0.91      0.87      0.89      5236\n",
      "\n",
      "\n",
      "\n",
      "Report for column other_aid\n",
      "              precision    recall  f1-score   support\n",
      "\n",
      "           0       0.89      0.92      0.90      4544\n",
      "           1       0.29      0.22      0.25       692\n",
      "\n",
      "    accuracy                           0.83      5236\n",
      "   macro avg       0.59      0.57      0.58      5236\n",
      "weighted avg       0.81      0.83      0.82      5236\n",
      "\n",
      "\n",
      "\n",
      "Report for column infrastructure_related\n",
      "              precision    recall  f1-score   support\n",
      "\n",
      "           0       0.93      0.90      0.91      4865\n",
      "           1       0.06      0.08      0.07       371\n",
      "\n",
      "    accuracy                           0.84      5236\n",
      "   macro avg       0.49      0.49      0.49      5236\n",
      "weighted avg       0.87      0.84      0.85      5236\n",
      "\n",
      "\n",
      "\n",
      "Report for column transport\n",
      "              precision    recall  f1-score   support\n",
      "\n",
      "           0       0.95      0.90      0.93      4997\n",
      "           1       0.02      0.05      0.03       239\n",
      "\n",
      "    accuracy                           0.86      5236\n",
      "   macro avg       0.49      0.48      0.48      5236\n",
      "weighted avg       0.91      0.86      0.88      5236\n",
      "\n",
      "\n",
      "\n",
      "Report for column buildings\n",
      "              precision    recall  f1-score   support\n",
      "\n",
      "           0       0.95      0.90      0.93      4953\n",
      "           1       0.08      0.14      0.10       283\n",
      "\n",
      "    accuracy                           0.86      5236\n",
      "   macro avg       0.51      0.52      0.51      5236\n",
      "weighted avg       0.90      0.86      0.88      5236\n",
      "\n",
      "\n",
      "\n",
      "Report for column electricity\n",
      "              precision    recall  f1-score   support\n",
      "\n",
      "           0       0.98      0.90      0.94      5133\n",
      "           1       0.02      0.08      0.03       103\n",
      "\n",
      "    accuracy                           0.89      5236\n",
      "   macro avg       0.50      0.49      0.48      5236\n",
      "weighted avg       0.96      0.89      0.92      5236\n",
      "\n",
      "\n",
      "\n",
      "Report for column tools\n",
      "              precision    recall  f1-score   support\n",
      "\n",
      "           0       0.99      0.90      0.95      5209\n",
      "           1       0.00      0.04      0.00        27\n",
      "\n",
      "    accuracy                           0.90      5236\n",
      "   macro avg       0.50      0.47      0.47      5236\n",
      "weighted avg       0.99      0.90      0.94      5236\n",
      "\n",
      "\n",
      "\n",
      "Report for column hospitals\n",
      "              precision    recall  f1-score   support\n",
      "\n",
      "           0       0.99      0.90      0.94      5175\n",
      "           1       0.01      0.11      0.02        61\n",
      "\n",
      "    accuracy                           0.89      5236\n",
      "   macro avg       0.50      0.51      0.48      5236\n",
      "weighted avg       0.98      0.89      0.93      5236\n",
      "\n",
      "\n",
      "\n",
      "Report for column shops\n",
      "              precision    recall  f1-score   support\n",
      "\n",
      "           0       0.99      0.90      0.95      5201\n",
      "           1       0.01      0.09      0.01        35\n",
      "\n",
      "    accuracy                           0.90      5236\n",
      "   macro avg       0.50      0.49      0.48      5236\n",
      "weighted avg       0.99      0.90      0.94      5236\n",
      "\n",
      "\n",
      "\n",
      "Report for column aid_centers\n",
      "              precision    recall  f1-score   support\n",
      "\n",
      "           0       0.99      0.90      0.94      5164\n",
      "           1       0.00      0.03      0.01        72\n",
      "\n",
      "    accuracy                           0.89      5236\n",
      "   macro avg       0.49      0.46      0.47      5236\n",
      "weighted avg       0.97      0.89      0.93      5236\n",
      "\n",
      "\n",
      "\n",
      "Report for column other_infrastructure\n",
      "              precision    recall  f1-score   support\n",
      "\n",
      "           0       0.95      0.90      0.93      4993\n",
      "           1       0.04      0.08      0.05       243\n",
      "\n",
      "    accuracy                           0.86      5236\n",
      "   macro avg       0.50      0.49      0.49      5236\n",
      "weighted avg       0.91      0.86      0.89      5236\n",
      "\n",
      "\n",
      "\n",
      "Report for column weather_related\n",
      "              precision    recall  f1-score   support\n",
      "\n",
      "           0       0.72      0.89      0.80      3849\n",
      "           1       0.16      0.06      0.09      1387\n",
      "\n",
      "    accuracy                           0.67      5236\n",
      "   macro avg       0.44      0.47      0.44      5236\n",
      "weighted avg       0.57      0.67      0.61      5236\n",
      "\n",
      "\n",
      "\n",
      "Report for column floods\n",
      "              precision    recall  f1-score   support\n",
      "\n",
      "           0       0.92      0.90      0.91      4844\n",
      "           1       0.05      0.06      0.05       392\n",
      "\n",
      "    accuracy                           0.84      5236\n",
      "   macro avg       0.48      0.48      0.48      5236\n",
      "weighted avg       0.86      0.84      0.85      5236\n",
      "\n",
      "\n",
      "\n",
      "Report for column storm\n",
      "              precision    recall  f1-score   support\n",
      "\n",
      "           0       0.90      0.90      0.90      4747\n",
      "           1       0.03      0.03      0.03       489\n",
      "\n",
      "    accuracy                           0.82      5236\n",
      "   macro avg       0.47      0.47      0.47      5236\n",
      "weighted avg       0.82      0.82      0.82      5236\n",
      "\n",
      "\n",
      "\n",
      "Report for column fire\n",
      "              precision    recall  f1-score   support\n",
      "\n",
      "           0       0.99      0.90      0.94      5178\n",
      "           1       0.00      0.03      0.01        58\n",
      "\n",
      "    accuracy                           0.89      5236\n",
      "   macro avg       0.50      0.47      0.48      5236\n",
      "weighted avg       0.98      0.89      0.93      5236\n",
      "\n",
      "\n",
      "\n",
      "Report for column earthquake\n",
      "              precision    recall  f1-score   support\n",
      "\n",
      "           0       0.91      0.90      0.90      4780\n",
      "           1       0.05      0.06      0.05       456\n",
      "\n",
      "    accuracy                           0.83      5236\n",
      "   macro avg       0.48      0.48      0.48      5236\n",
      "weighted avg       0.83      0.83      0.83      5236\n",
      "\n",
      "\n",
      "\n",
      "Report for column cold\n",
      "              precision    recall  f1-score   support\n",
      "\n",
      "           0       0.98      0.90      0.94      5123\n",
      "           1       0.01      0.05      0.02       113\n",
      "\n",
      "    accuracy                           0.88      5236\n",
      "   macro avg       0.49      0.48      0.48      5236\n",
      "weighted avg       0.96      0.88      0.92      5236\n",
      "\n",
      "\n",
      "\n",
      "Report for column other_weather\n",
      "              precision    recall  f1-score   support\n",
      "\n",
      "           0       0.95      0.90      0.93      4993\n",
      "           1       0.03      0.07      0.05       243\n",
      "\n",
      "    accuracy                           0.86      5236\n",
      "   macro avg       0.49      0.49      0.49      5236\n",
      "weighted avg       0.91      0.86      0.89      5236\n",
      "\n",
      "\n",
      "\n",
      "Report for column direct_report\n",
      "              precision    recall  f1-score   support\n",
      "\n",
      "           0       0.86      0.98      0.92      4183\n",
      "           1       0.80      0.39      0.52      1053\n",
      "\n",
      "    accuracy                           0.86      5236\n",
      "   macro avg       0.83      0.68      0.72      5236\n",
      "weighted avg       0.85      0.86      0.84      5236\n",
      "\n",
      "\n",
      "\n"
     ]
    }
   ],
   "source": [
    "for i in range(0,len(y_columns)):\n",
    "    print(\"Report for column \" + y_columns[i] + \"\\n\" + classification_report(y_test[:,i], y_pred[:,1]))\n",
    "    print (\"\\n\")"
   ]
  },
  {
   "cell_type": "code",
   "execution_count": 38,
   "metadata": {},
   "outputs": [],
   "source": [
    "from sklearn.metrics import f1_score"
   ]
  },
  {
   "cell_type": "code",
   "execution_count": 45,
   "metadata": {},
   "outputs": [],
   "source": [
    "#Instead of printing the classification report, this time let's just try to grab the f1score for each column, and then put it on a graph.\n",
    "reportDict = {}\n",
    "for i in range(0,len(y_columns)):\n",
    "    reportDict[y_columns[i]] = f1_score(y_test[:,i], y_pred[:,1], average=\"weighted\")"
   ]
  },
  {
   "cell_type": "code",
   "execution_count": 46,
   "metadata": {},
   "outputs": [
    {
     "data": {
      "text/plain": [
       "{'related': 0.26411486084539,\n",
       " 'request': 0.8776823185800054,\n",
       " 'offer': 0.9407845792928516,\n",
       " 'aid_related': 0.5775218206588759,\n",
       " 'medical_help': 0.8506645211835805,\n",
       " 'medical_products': 0.8866702587673629,\n",
       " 'search_and_rescue': 0.911693218719043,\n",
       " 'security': 0.9225315230453712,\n",
       " 'military': 0.8956213179586051,\n",
       " 'child_alone': 0.9488054607508533,\n",
       " 'water': 0.8925725783881698,\n",
       " 'food': 0.8704273778808068,\n",
       " 'shelter': 0.8727563920328432,\n",
       " 'clothing': 0.931109597897363,\n",
       " 'money': 0.9196859207630961,\n",
       " 'missing_people': 0.9349109673496719,\n",
       " 'refugees': 0.8975288602769282,\n",
       " 'death': 0.8892940250039467,\n",
       " 'other_aid': 0.8163802007456834,\n",
       " 'infrastructure_related': 0.8544341991932645,\n",
       " 'transport': 0.8846551930225601,\n",
       " 'buildings': 0.8813887847002717,\n",
       " 'electricity': 0.9214793196232371,\n",
       " 'tools': 0.9412902554587887,\n",
       " 'hospitals': 0.9330339835458311,\n",
       " 'shops': 0.9394556789115318,\n",
       " 'aid_centers': 0.9287043270594292,\n",
       " 'other_infrastructure': 0.8860990473705831,\n",
       " 'weather_related': 0.6094403737574828,\n",
       " 'floods': 0.8465613666245123,\n",
       " 'storm': 0.8174318227130863,\n",
       " 'fire': 0.9326849692837074,\n",
       " 'earthquake': 0.8298224864873041,\n",
       " 'cold': 0.9181364150382785,\n",
       " 'other_weather': 0.8851405540805739,\n",
       " 'direct_report': 0.8364631434770397}"
      ]
     },
     "execution_count": 46,
     "metadata": {},
     "output_type": "execute_result"
    }
   ],
   "source": [
    "reportDict"
   ]
  },
  {
   "cell_type": "code",
   "execution_count": 47,
   "metadata": {},
   "outputs": [],
   "source": [
    "from matplotlib import pyplot\n",
    "import seaborn as sns"
   ]
  },
  {
   "cell_type": "code",
   "execution_count": 51,
   "metadata": {},
   "outputs": [],
   "source": [
    "#Let's get a plot of how much positive data we have, and then compare that to the f1 score from the model\n",
    "cat_available = np.sum(df[[item for item in df.columns if item not in ['id', 'message', 'original', 'genre']]]).sort_values(ascending=False)"
   ]
  },
  {
   "cell_type": "code",
   "execution_count": 52,
   "metadata": {},
   "outputs": [],
   "source": [
    "def formatPlots():\n",
    "    \"\"\"\n",
    "    Description: This function is a simple script to help us reuse styling codes in one place\n",
    "\n",
    "    Arguments:\n",
    "        None\n",
    "\n",
    "    Returns: None\n",
    "    \"\"\"\n",
    "    sns.set(style=\"whitegrid\")\n",
    "    sns.set_context(\"talk\")\n",
    "    fig, ax = pyplot.subplots(figsize=(12,6))    \n",
    "    pyplot.xticks(rotation=90)"
   ]
  },
  {
   "cell_type": "code",
   "execution_count": 53,
   "metadata": {},
   "outputs": [
    {
     "data": {
      "text/plain": [
       "Text(0.5, 1.0, 'Available message count by category')"
      ]
     },
     "execution_count": 53,
     "metadata": {},
     "output_type": "execute_result"
    },
    {
     "data": {
      "image/png": "[encoded data removed]",
      "text/plain": [
       "<Figure size 864x432 with 1 Axes>"
      ]
     },
     "metadata": {},
     "output_type": "display_data"
    }
   ],
   "source": [
    "formatPlots()\n",
    "chart = sns.barplot(x=cat_available.index, y=cat_available)\n",
    "chart.set_ylabel(\"Number of Positive Data points\")\n",
    "chart.set_title(\"Available message count by category\")"
   ]
  },
  {
   "cell_type": "code",
   "execution_count": 71,
   "metadata": {},
   "outputs": [],
   "source": [
    "accuracy_df = pd.DataFrame(cat_available)"
   ]
  },
  {
   "cell_type": "code",
   "execution_count": 72,
   "metadata": {},
   "outputs": [],
   "source": [
    "accuracy_df = accuracy_df.reset_index()\n",
    "accuracy_df.columns = [\"Category\", \"Positive Count\"]"
   ]
  },
  {
   "cell_type": "code",
   "execution_count": 75,
   "metadata": {},
   "outputs": [
    {
     "data": {
      "text/html": [
       "<div>\n",
       "<style scoped>\n",
       "    .dataframe tbody tr th:only-of-type {\n",
       "        vertical-align: middle;\n",
       "    }\n",
       "\n",
       "    .dataframe tbody tr th {\n",
       "        vertical-align: top;\n",
       "    }\n",
       "\n",
       "    .dataframe thead th {\n",
       "        text-align: right;\n",
       "    }\n",
       "</style>\n",
       "<table border=\"1\" class=\"dataframe\">\n",
       "  <thead>\n",
       "    <tr style=\"text-align: right;\">\n",
       "      <th></th>\n",
       "      <th>Category</th>\n",
       "      <th>Positive Count</th>\n",
       "    </tr>\n",
       "  </thead>\n",
       "  <tbody>\n",
       "    <tr>\n",
       "      <th>0</th>\n",
       "      <td>related</td>\n",
       "      <td>20252</td>\n",
       "    </tr>\n",
       "    <tr>\n",
       "      <th>1</th>\n",
       "      <td>aid_related</td>\n",
       "      <td>10841</td>\n",
       "    </tr>\n",
       "    <tr>\n",
       "      <th>2</th>\n",
       "      <td>weather_related</td>\n",
       "      <td>7286</td>\n",
       "    </tr>\n",
       "    <tr>\n",
       "      <th>3</th>\n",
       "      <td>direct_report</td>\n",
       "      <td>5064</td>\n",
       "    </tr>\n",
       "    <tr>\n",
       "      <th>4</th>\n",
       "      <td>request</td>\n",
       "      <td>4464</td>\n",
       "    </tr>\n",
       "  </tbody>\n",
       "</table>\n",
       "</div>"
      ],
      "text/plain": [
       "          Category  Positive Count\n",
       "0          related           20252\n",
       "1      aid_related           10841\n",
       "2  weather_related            7286\n",
       "3    direct_report            5064\n",
       "4          request            4464"
      ]
     },
     "execution_count": 75,
     "metadata": {},
     "output_type": "execute_result"
    }
   ],
   "source": [
    "accuracy_df.head(5)"
   ]
  },
  {
   "cell_type": "code",
   "execution_count": 76,
   "metadata": {},
   "outputs": [],
   "source": [
    "accuracy_df[\"F1 score\"] = accuracy_df[\"Category\"].apply(lambda x: reportDict[x])"
   ]
  },
  {
   "cell_type": "code",
   "execution_count": 77,
   "metadata": {},
   "outputs": [
    {
     "data": {
      "text/html": [
       "<div>\n",
       "<style scoped>\n",
       "    .dataframe tbody tr th:only-of-type {\n",
       "        vertical-align: middle;\n",
       "    }\n",
       "\n",
       "    .dataframe tbody tr th {\n",
       "        vertical-align: top;\n",
       "    }\n",
       "\n",
       "    .dataframe thead th {\n",
       "        text-align: right;\n",
       "    }\n",
       "</style>\n",
       "<table border=\"1\" class=\"dataframe\">\n",
       "  <thead>\n",
       "    <tr style=\"text-align: right;\">\n",
       "      <th></th>\n",
       "      <th>Category</th>\n",
       "      <th>Positive Count</th>\n",
       "      <th>F1 score</th>\n",
       "    </tr>\n",
       "  </thead>\n",
       "  <tbody>\n",
       "    <tr>\n",
       "      <th>0</th>\n",
       "      <td>related</td>\n",
       "      <td>20252</td>\n",
       "      <td>0.264115</td>\n",
       "    </tr>\n",
       "    <tr>\n",
       "      <th>1</th>\n",
       "      <td>aid_related</td>\n",
       "      <td>10841</td>\n",
       "      <td>0.577522</td>\n",
       "    </tr>\n",
       "    <tr>\n",
       "      <th>2</th>\n",
       "      <td>weather_related</td>\n",
       "      <td>7286</td>\n",
       "      <td>0.609440</td>\n",
       "    </tr>\n",
       "    <tr>\n",
       "      <th>3</th>\n",
       "      <td>direct_report</td>\n",
       "      <td>5064</td>\n",
       "      <td>0.836463</td>\n",
       "    </tr>\n",
       "    <tr>\n",
       "      <th>4</th>\n",
       "      <td>request</td>\n",
       "      <td>4464</td>\n",
       "      <td>0.877682</td>\n",
       "    </tr>\n",
       "  </tbody>\n",
       "</table>\n",
       "</div>"
      ],
      "text/plain": [
       "          Category  Positive Count  F1 score\n",
       "0          related           20252  0.264115\n",
       "1      aid_related           10841  0.577522\n",
       "2  weather_related            7286  0.609440\n",
       "3    direct_report            5064  0.836463\n",
       "4          request            4464  0.877682"
      ]
     },
     "execution_count": 77,
     "metadata": {},
     "output_type": "execute_result"
    }
   ],
   "source": [
    "accuracy_df.head()"
   ]
  },
  {
   "cell_type": "code",
   "execution_count": 79,
   "metadata": {},
   "outputs": [
    {
     "data": {
      "text/plain": [
       "<matplotlib.axes._subplots.AxesSubplot at 0x1a45ea5890>"
      ]
     },
     "execution_count": 79,
     "metadata": {},
     "output_type": "execute_result"
    },
    {
     "data": {
      "image/png": "[encoded data removed]",
      "text/plain": [
       "<Figure size 864x432 with 1 Axes>"
      ]
     },
     "metadata": {},
     "output_type": "display_data"
    }
   ],
   "source": [
    "formatPlots()\n",
    "sns.lineplot(x=\"Category\", y=\"F1 score\", data=accuracy_df, sort=False)"
   ]
  },
  {
   "cell_type": "code",
   "execution_count": 89,
   "metadata": {},
   "outputs": [
    {
     "data": {
      "image/png": "[encoded data removed]",
      "text/plain": [
       "<Figure size 1008x576 with 2 Axes>"
      ]
     },
     "metadata": {},
     "output_type": "display_data"
    }
   ],
   "source": [
    "#Let's plot the two together.\n",
    "#Create combo chart\n",
    "fig, ax1 = pyplot.subplots(figsize=(14,8))\n",
    "pyplot.xticks(rotation=90)\n",
    "color = 'tab:green'\n",
    "#bar plot creation\n",
    "ax1.set_title('Available message count by category', fontsize=16)\n",
    "ax1.set_xlabel('Category', fontsize=16)\n",
    "ax1.set_ylabel('Number of Positive Data points', fontsize=16)\n",
    "ax1 = sns.barplot(x='Category', y='Positive Count', data = accuracy_df, palette='summer')\n",
    "ax1.tick_params(axis='y')\n",
    "#specify we want to share the same x-axis\n",
    "ax2 = ax1.twinx()\n",
    "ax2.grid(False)\n",
    "color = 'tab:red'\n",
    "#line plot creation\n",
    "ax2.set_ylabel('F1 score', fontsize=16)\n",
    "ax2 = sns.lineplot(x='Category', y='F1 score', data = accuracy_df, sort=False, color=color)\n",
    "ax2.tick_params(axis='y', color=color)\n",
    "#show plot\n",
    "pyplot.show()"
   ]
  },
  {
   "cell_type": "markdown",
   "metadata": {},
   "source": [
    "### 8. Try improving your model further. Here are a few ideas:\n",
    "* try other machine learning algorithms\n",
    "* add other features besides the TF-IDF"
   ]
  },
  {
   "cell_type": "code",
   "execution_count": 90,
   "metadata": {},
   "outputs": [],
   "source": [
    "#See python script"
   ]
  },
  {
   "cell_type": "markdown",
   "metadata": {},
   "source": [
    "### 9. Export your model as a pickle file"
   ]
  },
  {
   "cell_type": "code",
   "execution_count": 91,
   "metadata": {},
   "outputs": [],
   "source": [
    "#See python script"
   ]
  },
  {
   "cell_type": "markdown",
   "metadata": {},
   "source": [
    "### 10. Use this notebook to complete `train.py`\n",
    "Use the template file attached in the Resources folder to write a script that runs the steps above to create a database and export a model based on a new dataset specified by the user."
   ]
  },
  {
   "cell_type": "code",
   "execution_count": 92,
   "metadata": {},
   "outputs": [],
   "source": [
    "#See script in the model folder"
   ]
  },
  {
   "cell_type": "code",
   "execution_count": null,
   "metadata": {},
   "outputs": [],
   "source": []
  }
 ],
 "metadata": {
  "kernelspec": {
   "display_name": "Python 3",
   "language": "python",
   "name": "python3"
  },
  "language_info": {
   "codemirror_mode": {
    "name": "ipython",
    "version": 3
   },
   "file_extension": ".py",
   "mimetype": "text/x-python",
   "name": "python",
   "nbconvert_exporter": "python",
   "pygments_lexer": "ipython3",
   "version": "3.7.5"
  }
 },
 "nbformat": 4,
 "nbformat_minor": 4
}
