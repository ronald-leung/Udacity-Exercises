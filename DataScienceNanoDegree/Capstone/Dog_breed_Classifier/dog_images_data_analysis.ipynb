{
 "cells": [
  {
   "cell_type": "markdown",
   "metadata": {},
   "source": [
    "This short notebook provides a quick analysis on the data we are using to train the data model"
   ]
  },
  {
   "cell_type": "code",
   "execution_count": 1,
   "metadata": {},
   "outputs": [],
   "source": [
    "import pandas as pd\n",
    "import numpy as np\n",
    "import os"
   ]
  },
  {
   "cell_type": "code",
   "execution_count": 47,
   "metadata": {},
   "outputs": [],
   "source": [
    "# Let's look at how much data we have for training.\n",
    "# We will load all the file paths, store them in a directory, so we can get a count of number of images per breed\n",
    "def fileCountPerDir(dirPath):\n",
    "    allFiles = []\n",
    "    for subdir, dirs, files in os.walk(dirPath):\n",
    "        for file in files:\n",
    "            #print os.path.join(subdir, file)\n",
    "            #Skip the hidden files\n",
    "            if file[0] == \".\":\n",
    "                continue\n",
    "            else:\n",
    "                filepath = subdir + os.sep + file\n",
    "                allFiles.append(filepath)\n",
    "\n",
    "    df = pd.DataFrame(allFiles)\n",
    "    df.columns = [\"FilePath\"]\n",
    "    df[\"Directory\"] = df[\"FilePath\"].apply(lambda x: x[:x.rfind('/')])\n",
    "    df[\"File\"] = df[\"FilePath\"].apply(lambda x: x[x.rfind('/') + 1:])\n",
    "    return df"
   ]
  },
  {
   "cell_type": "code",
   "execution_count": 50,
   "metadata": {},
   "outputs": [
    {
     "data": {
      "text/html": [
       "<div>\n",
       "<style scoped>\n",
       "    .dataframe tbody tr th:only-of-type {\n",
       "        vertical-align: middle;\n",
       "    }\n",
       "\n",
       "    .dataframe tbody tr th {\n",
       "        vertical-align: top;\n",
       "    }\n",
       "\n",
       "    .dataframe thead th {\n",
       "        text-align: right;\n",
       "    }\n",
       "</style>\n",
       "<table border=\"1\" class=\"dataframe\">\n",
       "  <thead>\n",
       "    <tr style=\"text-align: right;\">\n",
       "      <th></th>\n",
       "      <th>FilePath</th>\n",
       "      <th>Directory</th>\n",
       "      <th>File</th>\n",
       "    </tr>\n",
       "  </thead>\n",
       "  <tbody>\n",
       "    <tr>\n",
       "      <th>0</th>\n",
       "      <td>dogImages/train/001.Affenpinscher/Affenpinsche...</td>\n",
       "      <td>dogImages/train/001.Affenpinscher</td>\n",
       "      <td>Affenpinscher_00001.jpg</td>\n",
       "    </tr>\n",
       "    <tr>\n",
       "      <th>1</th>\n",
       "      <td>dogImages/train/001.Affenpinscher/Affenpinsche...</td>\n",
       "      <td>dogImages/train/001.Affenpinscher</td>\n",
       "      <td>Affenpinscher_00002.jpg</td>\n",
       "    </tr>\n",
       "    <tr>\n",
       "      <th>2</th>\n",
       "      <td>dogImages/train/001.Affenpinscher/Affenpinsche...</td>\n",
       "      <td>dogImages/train/001.Affenpinscher</td>\n",
       "      <td>Affenpinscher_00004.jpg</td>\n",
       "    </tr>\n",
       "    <tr>\n",
       "      <th>3</th>\n",
       "      <td>dogImages/train/001.Affenpinscher/Affenpinsche...</td>\n",
       "      <td>dogImages/train/001.Affenpinscher</td>\n",
       "      <td>Affenpinscher_00005.jpg</td>\n",
       "    </tr>\n",
       "    <tr>\n",
       "      <th>4</th>\n",
       "      <td>dogImages/train/001.Affenpinscher/Affenpinsche...</td>\n",
       "      <td>dogImages/train/001.Affenpinscher</td>\n",
       "      <td>Affenpinscher_00006.jpg</td>\n",
       "    </tr>\n",
       "  </tbody>\n",
       "</table>\n",
       "</div>"
      ],
      "text/plain": [
       "                                            FilePath  \\\n",
       "0  dogImages/train/001.Affenpinscher/Affenpinsche...   \n",
       "1  dogImages/train/001.Affenpinscher/Affenpinsche...   \n",
       "2  dogImages/train/001.Affenpinscher/Affenpinsche...   \n",
       "3  dogImages/train/001.Affenpinscher/Affenpinsche...   \n",
       "4  dogImages/train/001.Affenpinscher/Affenpinsche...   \n",
       "\n",
       "                           Directory                     File  \n",
       "0  dogImages/train/001.Affenpinscher  Affenpinscher_00001.jpg  \n",
       "1  dogImages/train/001.Affenpinscher  Affenpinscher_00002.jpg  \n",
       "2  dogImages/train/001.Affenpinscher  Affenpinscher_00004.jpg  \n",
       "3  dogImages/train/001.Affenpinscher  Affenpinscher_00005.jpg  \n",
       "4  dogImages/train/001.Affenpinscher  Affenpinscher_00006.jpg  "
      ]
     },
     "execution_count": 50,
     "metadata": {},
     "output_type": "execute_result"
    }
   ],
   "source": [
    "train_df = fileCountPerDir(\"dogImages/train\")\n",
    "train_df.head()"
   ]
  },
  {
   "cell_type": "code",
   "execution_count": 51,
   "metadata": {},
   "outputs": [],
   "source": [
    "filesPerDir = pd.DataFrame(dogTrainFiles_df.groupby(\"Directory\")[\"File\"].count())"
   ]
  },
  {
   "cell_type": "code",
   "execution_count": 52,
   "metadata": {},
   "outputs": [
    {
     "data": {
      "text/html": [
       "<div>\n",
       "<style scoped>\n",
       "    .dataframe tbody tr th:only-of-type {\n",
       "        vertical-align: middle;\n",
       "    }\n",
       "\n",
       "    .dataframe tbody tr th {\n",
       "        vertical-align: top;\n",
       "    }\n",
       "\n",
       "    .dataframe thead th {\n",
       "        text-align: right;\n",
       "    }\n",
       "</style>\n",
       "<table border=\"1\" class=\"dataframe\">\n",
       "  <thead>\n",
       "    <tr style=\"text-align: right;\">\n",
       "      <th></th>\n",
       "      <th>File</th>\n",
       "    </tr>\n",
       "    <tr>\n",
       "      <th>Directory</th>\n",
       "      <th></th>\n",
       "    </tr>\n",
       "  </thead>\n",
       "  <tbody>\n",
       "    <tr>\n",
       "      <th>dogImages/train/001.Affenpinscher</th>\n",
       "      <td>64</td>\n",
       "    </tr>\n",
       "    <tr>\n",
       "      <th>dogImages/train/002.Afghan_hound</th>\n",
       "      <td>58</td>\n",
       "    </tr>\n",
       "    <tr>\n",
       "      <th>dogImages/train/003.Airedale_terrier</th>\n",
       "      <td>52</td>\n",
       "    </tr>\n",
       "    <tr>\n",
       "      <th>dogImages/train/004.Akita</th>\n",
       "      <td>63</td>\n",
       "    </tr>\n",
       "    <tr>\n",
       "      <th>dogImages/train/005.Alaskan_malamute</th>\n",
       "      <td>77</td>\n",
       "    </tr>\n",
       "  </tbody>\n",
       "</table>\n",
       "</div>"
      ],
      "text/plain": [
       "                                      File\n",
       "Directory                                 \n",
       "dogImages/train/001.Affenpinscher       64\n",
       "dogImages/train/002.Afghan_hound        58\n",
       "dogImages/train/003.Airedale_terrier    52\n",
       "dogImages/train/004.Akita               63\n",
       "dogImages/train/005.Alaskan_malamute    77"
      ]
     },
     "execution_count": 52,
     "metadata": {},
     "output_type": "execute_result"
    }
   ],
   "source": [
    "filesPerDir.head()"
   ]
  },
  {
   "cell_type": "code",
   "execution_count": 53,
   "metadata": {},
   "outputs": [
    {
     "data": {
      "text/html": [
       "<div>\n",
       "<style scoped>\n",
       "    .dataframe tbody tr th:only-of-type {\n",
       "        vertical-align: middle;\n",
       "    }\n",
       "\n",
       "    .dataframe tbody tr th {\n",
       "        vertical-align: top;\n",
       "    }\n",
       "\n",
       "    .dataframe thead th {\n",
       "        text-align: right;\n",
       "    }\n",
       "</style>\n",
       "<table border=\"1\" class=\"dataframe\">\n",
       "  <thead>\n",
       "    <tr style=\"text-align: right;\">\n",
       "      <th></th>\n",
       "      <th>File</th>\n",
       "    </tr>\n",
       "    <tr>\n",
       "      <th>Directory</th>\n",
       "      <th></th>\n",
       "    </tr>\n",
       "  </thead>\n",
       "  <tbody>\n",
       "    <tr>\n",
       "      <th>dogImages/train/005.Alaskan_malamute</th>\n",
       "      <td>77</td>\n",
       "    </tr>\n",
       "    <tr>\n",
       "      <th>dogImages/train/029.Border_collie</th>\n",
       "      <td>74</td>\n",
       "    </tr>\n",
       "    <tr>\n",
       "      <th>dogImages/train/015.Basset_hound</th>\n",
       "      <td>73</td>\n",
       "    </tr>\n",
       "    <tr>\n",
       "      <th>dogImages/train/057.Dalmatian</th>\n",
       "      <td>71</td>\n",
       "    </tr>\n",
       "    <tr>\n",
       "      <th>dogImages/train/014.Basenji</th>\n",
       "      <td>69</td>\n",
       "    </tr>\n",
       "  </tbody>\n",
       "</table>\n",
       "</div>"
      ],
      "text/plain": [
       "                                      File\n",
       "Directory                                 \n",
       "dogImages/train/005.Alaskan_malamute    77\n",
       "dogImages/train/029.Border_collie       74\n",
       "dogImages/train/015.Basset_hound        73\n",
       "dogImages/train/057.Dalmatian           71\n",
       "dogImages/train/014.Basenji             69"
      ]
     },
     "execution_count": 53,
     "metadata": {},
     "output_type": "execute_result"
    }
   ],
   "source": [
    "#Breeds that have the most training pics\n",
    "filesPerDir.sort_values(\"File\", inplace=True, ascending=False)\n",
    "filesPerDir.head()"
   ]
  },
  {
   "cell_type": "code",
   "execution_count": 54,
   "metadata": {},
   "outputs": [
    {
     "data": {
      "text/html": [
       "<div>\n",
       "<style scoped>\n",
       "    .dataframe tbody tr th:only-of-type {\n",
       "        vertical-align: middle;\n",
       "    }\n",
       "\n",
       "    .dataframe tbody tr th {\n",
       "        vertical-align: top;\n",
       "    }\n",
       "\n",
       "    .dataframe thead th {\n",
       "        text-align: right;\n",
       "    }\n",
       "</style>\n",
       "<table border=\"1\" class=\"dataframe\">\n",
       "  <thead>\n",
       "    <tr style=\"text-align: right;\">\n",
       "      <th></th>\n",
       "      <th>File</th>\n",
       "    </tr>\n",
       "    <tr>\n",
       "      <th>Directory</th>\n",
       "      <th></th>\n",
       "    </tr>\n",
       "  </thead>\n",
       "  <tbody>\n",
       "    <tr>\n",
       "      <th>dogImages/train/133.Yorkshire_terrier</th>\n",
       "      <td>30</td>\n",
       "    </tr>\n",
       "    <tr>\n",
       "      <th>dogImages/train/102.Manchester_terrier</th>\n",
       "      <td>29</td>\n",
       "    </tr>\n",
       "    <tr>\n",
       "      <th>dogImages/train/121.Plott</th>\n",
       "      <td>28</td>\n",
       "    </tr>\n",
       "    <tr>\n",
       "      <th>dogImages/train/108.Norwegian_buhund</th>\n",
       "      <td>26</td>\n",
       "    </tr>\n",
       "    <tr>\n",
       "      <th>dogImages/train/132.Xoloitzcuintli</th>\n",
       "      <td>26</td>\n",
       "    </tr>\n",
       "  </tbody>\n",
       "</table>\n",
       "</div>"
      ],
      "text/plain": [
       "                                        File\n",
       "Directory                                   \n",
       "dogImages/train/133.Yorkshire_terrier     30\n",
       "dogImages/train/102.Manchester_terrier    29\n",
       "dogImages/train/121.Plott                 28\n",
       "dogImages/train/108.Norwegian_buhund      26\n",
       "dogImages/train/132.Xoloitzcuintli        26"
      ]
     },
     "execution_count": 54,
     "metadata": {},
     "output_type": "execute_result"
    }
   ],
   "source": [
    "#Breeds that has the least training pics\n",
    "filesPerDir.tail()"
   ]
  },
  {
   "cell_type": "code",
   "execution_count": 33,
   "metadata": {},
   "outputs": [],
   "source": [
    "import seaborn as sns\n",
    "import matplotlib.pyplot as plt\n",
    "from scipy import stats"
   ]
  },
  {
   "cell_type": "code",
   "execution_count": 46,
   "metadata": {},
   "outputs": [
    {
     "data": {
      "image/png": "[encoded data removed]",
      "text/plain": [
       "<Figure size 864x432 with 1 Axes>"
      ]
     },
     "metadata": {
      "needs_background": "light"
     },
     "output_type": "display_data"
    }
   ],
   "source": [
    "fig = plt.figure(figsize=(12,6))\n",
    "plt.title(\"Historgram of training image counts per breed\", fontsize=15)\n",
    "plt.xlabel(\"Number of pics per breed\", fontsize=15)\n",
    "plt.ylabel(\"Percentage of breed\", fontsize=15)\n",
    "sns.distplot(filesPerDir);\n"
   ]
  },
  {
   "cell_type": "code",
   "execution_count": null,
   "metadata": {},
   "outputs": [],
   "source": []
  }
 ],
 "metadata": {
  "kernelspec": {
   "display_name": "Python 3",
   "language": "python",
   "name": "python3"
  },
  "language_info": {
   "codemirror_mode": {
    "name": "ipython",
    "version": 3
   },
   "file_extension": ".py",
   "mimetype": "text/x-python",
   "name": "python",
   "nbconvert_exporter": "python",
   "pygments_lexer": "ipython3",
   "version": "3.6.9"
  }
 },
 "nbformat": 4,
 "nbformat_minor": 4
}
